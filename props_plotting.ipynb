{
 "cells": [
  {
   "cell_type": "code",
   "execution_count": 9,
   "metadata": {},
   "outputs": [],
   "source": [
    "library(dplyr)\n",
    "library(ggplot2)\n",
    "library(readr)\n",
    "library(magrittr)\n",
    "require(tidyr)\n",
    "require(dplyr)\n",
    "require(lazyeval)"
   ]
  },
  {
   "cell_type": "code",
   "execution_count": 15,
   "metadata": {},
   "outputs": [
    {
     "name": "stderr",
     "output_type": "stream",
     "text": [
      "Parsed with column specification:\n",
      "cols(\n",
      "  X1 = \u001b[32mcol_double()\u001b[39m,\n",
      "  X2 = \u001b[32mcol_double()\u001b[39m,\n",
      "  X3 = \u001b[32mcol_double()\u001b[39m,\n",
      "  X4 = \u001b[32mcol_double()\u001b[39m,\n",
      "  X5 = \u001b[32mcol_double()\u001b[39m,\n",
      "  X6 = \u001b[32mcol_double()\u001b[39m,\n",
      "  X7 = \u001b[32mcol_double()\u001b[39m,\n",
      "  X8 = \u001b[32mcol_double()\u001b[39m,\n",
      "  X9 = \u001b[32mcol_double()\u001b[39m,\n",
      "  X10 = \u001b[32mcol_double()\u001b[39m,\n",
      "  X11 = \u001b[32mcol_double()\u001b[39m,\n",
      "  X12 = \u001b[32mcol_double()\u001b[39m,\n",
      "  X13 = \u001b[33mcol_logical()\u001b[39m\n",
      ")\n",
      "Parsed with column specification:\n",
      "cols(\n",
      "  X1 = \u001b[32mcol_double()\u001b[39m,\n",
      "  X2 = \u001b[32mcol_double()\u001b[39m,\n",
      "  X3 = \u001b[32mcol_double()\u001b[39m,\n",
      "  X4 = \u001b[32mcol_double()\u001b[39m,\n",
      "  X5 = \u001b[32mcol_double()\u001b[39m,\n",
      "  X6 = \u001b[32mcol_double()\u001b[39m,\n",
      "  X7 = \u001b[32mcol_double()\u001b[39m,\n",
      "  X8 = \u001b[32mcol_double()\u001b[39m,\n",
      "  X9 = \u001b[32mcol_double()\u001b[39m,\n",
      "  X10 = \u001b[32mcol_double()\u001b[39m,\n",
      "  X11 = \u001b[32mcol_double()\u001b[39m,\n",
      "  X12 = \u001b[32mcol_double()\u001b[39m,\n",
      "  X13 = \u001b[33mcol_logical()\u001b[39m\n",
      ")\n"
     ]
    },
    {
     "data": {
      "text/html": [
       "<ol class=list-inline>\n",
       "\t<li>100</li>\n",
       "\t<li>13</li>\n",
       "</ol>\n"
      ],
      "text/latex": [
       "\\begin{enumerate*}\n",
       "\\item 100\n",
       "\\item 13\n",
       "\\end{enumerate*}\n"
      ],
      "text/markdown": [
       "1. 100\n",
       "2. 13\n",
       "\n",
       "\n"
      ],
      "text/plain": [
       "[1] 100  13"
      ]
     },
     "metadata": {},
     "output_type": "display_data"
    },
    {
     "data": {
      "text/html": [
       "<ol class=list-inline>\n",
       "\t<li>100</li>\n",
       "\t<li>13</li>\n",
       "</ol>\n"
      ],
      "text/latex": [
       "\\begin{enumerate*}\n",
       "\\item 100\n",
       "\\item 13\n",
       "\\end{enumerate*}\n"
      ],
      "text/markdown": [
       "1. 100\n",
       "2. 13\n",
       "\n",
       "\n"
      ],
      "text/plain": [
       "[1] 100  13"
      ]
     },
     "metadata": {},
     "output_type": "display_data"
    },
    {
     "data": {
      "text/html": [
       "<table>\n",
       "<caption>A tibble: 6 × 13</caption>\n",
       "<thead>\n",
       "\t<tr><th scope=col>X1</th><th scope=col>X2</th><th scope=col>X3</th><th scope=col>X4</th><th scope=col>X5</th><th scope=col>X6</th><th scope=col>X7</th><th scope=col>X8</th><th scope=col>X9</th><th scope=col>X10</th><th scope=col>X11</th><th scope=col>X12</th><th scope=col>X13</th></tr>\n",
       "\t<tr><th scope=col>&lt;dbl&gt;</th><th scope=col>&lt;dbl&gt;</th><th scope=col>&lt;dbl&gt;</th><th scope=col>&lt;dbl&gt;</th><th scope=col>&lt;dbl&gt;</th><th scope=col>&lt;dbl&gt;</th><th scope=col>&lt;dbl&gt;</th><th scope=col>&lt;dbl&gt;</th><th scope=col>&lt;dbl&gt;</th><th scope=col>&lt;dbl&gt;</th><th scope=col>&lt;dbl&gt;</th><th scope=col>&lt;dbl&gt;</th><th scope=col>&lt;lgl&gt;</th></tr>\n",
       "</thead>\n",
       "<tbody>\n",
       "\t<tr><td>0</td><td>1</td><td>0.171262</td><td>1</td><td>10</td><td>0.065417</td><td>10</td><td>100</td><td>0.090397</td><td>100</td><td>-99</td><td>0.672924</td><td>NA</td></tr>\n",
       "\t<tr><td>0</td><td>1</td><td>0.236810</td><td>1</td><td>10</td><td>0.050996</td><td>10</td><td>100</td><td>0.061978</td><td>100</td><td>-99</td><td>0.650216</td><td>NA</td></tr>\n",
       "\t<tr><td>0</td><td>1</td><td>0.212262</td><td>1</td><td>10</td><td>0.042757</td><td>10</td><td>100</td><td>0.051369</td><td>100</td><td>-99</td><td>0.693612</td><td>NA</td></tr>\n",
       "\t<tr><td>0</td><td>1</td><td>0.229608</td><td>1</td><td>10</td><td>0.071822</td><td>10</td><td>100</td><td>0.094280</td><td>100</td><td>-99</td><td>0.604290</td><td>NA</td></tr>\n",
       "\t<tr><td>0</td><td>1</td><td>0.226238</td><td>1</td><td>10</td><td>0.054348</td><td>10</td><td>100</td><td>0.067403</td><td>100</td><td>-99</td><td>0.652010</td><td>NA</td></tr>\n",
       "\t<tr><td>0</td><td>1</td><td>0.183967</td><td>1</td><td>10</td><td>0.043145</td><td>10</td><td>100</td><td>0.053264</td><td>100</td><td>-99</td><td>0.719624</td><td>NA</td></tr>\n",
       "</tbody>\n",
       "</table>\n"
      ],
      "text/latex": [
       "A tibble: 6 × 13\n",
       "\\begin{tabular}{r|lllllllllllll}\n",
       " X1 & X2 & X3 & X4 & X5 & X6 & X7 & X8 & X9 & X10 & X11 & X12 & X13\\\\\n",
       " <dbl> & <dbl> & <dbl> & <dbl> & <dbl> & <dbl> & <dbl> & <dbl> & <dbl> & <dbl> & <dbl> & <dbl> & <lgl>\\\\\n",
       "\\hline\n",
       "\t 0 & 1 & 0.171262 & 1 & 10 & 0.065417 & 10 & 100 & 0.090397 & 100 & -99 & 0.672924 & NA\\\\\n",
       "\t 0 & 1 & 0.236810 & 1 & 10 & 0.050996 & 10 & 100 & 0.061978 & 100 & -99 & 0.650216 & NA\\\\\n",
       "\t 0 & 1 & 0.212262 & 1 & 10 & 0.042757 & 10 & 100 & 0.051369 & 100 & -99 & 0.693612 & NA\\\\\n",
       "\t 0 & 1 & 0.229608 & 1 & 10 & 0.071822 & 10 & 100 & 0.094280 & 100 & -99 & 0.604290 & NA\\\\\n",
       "\t 0 & 1 & 0.226238 & 1 & 10 & 0.054348 & 10 & 100 & 0.067403 & 100 & -99 & 0.652010 & NA\\\\\n",
       "\t 0 & 1 & 0.183967 & 1 & 10 & 0.043145 & 10 & 100 & 0.053264 & 100 & -99 & 0.719624 & NA\\\\\n",
       "\\end{tabular}\n"
      ],
      "text/markdown": [
       "\n",
       "A tibble: 6 × 13\n",
       "\n",
       "| X1 &lt;dbl&gt; | X2 &lt;dbl&gt; | X3 &lt;dbl&gt; | X4 &lt;dbl&gt; | X5 &lt;dbl&gt; | X6 &lt;dbl&gt; | X7 &lt;dbl&gt; | X8 &lt;dbl&gt; | X9 &lt;dbl&gt; | X10 &lt;dbl&gt; | X11 &lt;dbl&gt; | X12 &lt;dbl&gt; | X13 &lt;lgl&gt; |\n",
       "|---|---|---|---|---|---|---|---|---|---|---|---|---|\n",
       "| 0 | 1 | 0.171262 | 1 | 10 | 0.065417 | 10 | 100 | 0.090397 | 100 | -99 | 0.672924 | NA |\n",
       "| 0 | 1 | 0.236810 | 1 | 10 | 0.050996 | 10 | 100 | 0.061978 | 100 | -99 | 0.650216 | NA |\n",
       "| 0 | 1 | 0.212262 | 1 | 10 | 0.042757 | 10 | 100 | 0.051369 | 100 | -99 | 0.693612 | NA |\n",
       "| 0 | 1 | 0.229608 | 1 | 10 | 0.071822 | 10 | 100 | 0.094280 | 100 | -99 | 0.604290 | NA |\n",
       "| 0 | 1 | 0.226238 | 1 | 10 | 0.054348 | 10 | 100 | 0.067403 | 100 | -99 | 0.652010 | NA |\n",
       "| 0 | 1 | 0.183967 | 1 | 10 | 0.043145 | 10 | 100 | 0.053264 | 100 | -99 | 0.719624 | NA |\n",
       "\n"
      ],
      "text/plain": [
       "  X1 X2 X3       X4 X5 X6       X7 X8  X9       X10 X11 X12      X13\n",
       "1 0  1  0.171262 1  10 0.065417 10 100 0.090397 100 -99 0.672924 NA \n",
       "2 0  1  0.236810 1  10 0.050996 10 100 0.061978 100 -99 0.650216 NA \n",
       "3 0  1  0.212262 1  10 0.042757 10 100 0.051369 100 -99 0.693612 NA \n",
       "4 0  1  0.229608 1  10 0.071822 10 100 0.094280 100 -99 0.604290 NA \n",
       "5 0  1  0.226238 1  10 0.054348 10 100 0.067403 100 -99 0.652010 NA \n",
       "6 0  1  0.183967 1  10 0.043145 10 100 0.053264 100 -99 0.719624 NA "
      ]
     },
     "metadata": {},
     "output_type": "display_data"
    },
    {
     "data": {
      "text/html": [
       "<table>\n",
       "<caption>A tibble: 6 × 13</caption>\n",
       "<thead>\n",
       "\t<tr><th scope=col>X1</th><th scope=col>X2</th><th scope=col>X3</th><th scope=col>X4</th><th scope=col>X5</th><th scope=col>X6</th><th scope=col>X7</th><th scope=col>X8</th><th scope=col>X9</th><th scope=col>X10</th><th scope=col>X11</th><th scope=col>X12</th><th scope=col>X13</th></tr>\n",
       "\t<tr><th scope=col>&lt;dbl&gt;</th><th scope=col>&lt;dbl&gt;</th><th scope=col>&lt;dbl&gt;</th><th scope=col>&lt;dbl&gt;</th><th scope=col>&lt;dbl&gt;</th><th scope=col>&lt;dbl&gt;</th><th scope=col>&lt;dbl&gt;</th><th scope=col>&lt;dbl&gt;</th><th scope=col>&lt;dbl&gt;</th><th scope=col>&lt;dbl&gt;</th><th scope=col>&lt;dbl&gt;</th><th scope=col>&lt;dbl&gt;</th><th scope=col>&lt;lgl&gt;</th></tr>\n",
       "</thead>\n",
       "<tbody>\n",
       "\t<tr><td>0</td><td>1</td><td>0.257502</td><td>1</td><td>10</td><td>0.040062</td><td>10</td><td>100</td><td>0.046295</td><td>100</td><td>-99</td><td>0.656141</td><td>NA</td></tr>\n",
       "\t<tr><td>0</td><td>1</td><td>0.219240</td><td>1</td><td>10</td><td>0.078349</td><td>10</td><td>100</td><td>0.106323</td><td>100</td><td>-99</td><td>0.596088</td><td>NA</td></tr>\n",
       "\t<tr><td>0</td><td>1</td><td>0.200475</td><td>1</td><td>10</td><td>0.059637</td><td>10</td><td>100</td><td>0.077376</td><td>100</td><td>-99</td><td>0.662512</td><td>NA</td></tr>\n",
       "\t<tr><td>0</td><td>1</td><td>0.255076</td><td>1</td><td>10</td><td>0.031124</td><td>10</td><td>100</td><td>0.034922</td><td>100</td><td>-99</td><td>0.678879</td><td>NA</td></tr>\n",
       "\t<tr><td>0</td><td>1</td><td>0.216372</td><td>1</td><td>10</td><td>0.042808</td><td>10</td><td>100</td><td>0.051277</td><td>100</td><td>-99</td><td>0.689543</td><td>NA</td></tr>\n",
       "\t<tr><td>0</td><td>1</td><td>0.211890</td><td>1</td><td>10</td><td>0.048192</td><td>10</td><td>100</td><td>0.059153</td><td>100</td><td>-99</td><td>0.680765</td><td>NA</td></tr>\n",
       "</tbody>\n",
       "</table>\n"
      ],
      "text/latex": [
       "A tibble: 6 × 13\n",
       "\\begin{tabular}{r|lllllllllllll}\n",
       " X1 & X2 & X3 & X4 & X5 & X6 & X7 & X8 & X9 & X10 & X11 & X12 & X13\\\\\n",
       " <dbl> & <dbl> & <dbl> & <dbl> & <dbl> & <dbl> & <dbl> & <dbl> & <dbl> & <dbl> & <dbl> & <dbl> & <lgl>\\\\\n",
       "\\hline\n",
       "\t 0 & 1 & 0.257502 & 1 & 10 & 0.040062 & 10 & 100 & 0.046295 & 100 & -99 & 0.656141 & NA\\\\\n",
       "\t 0 & 1 & 0.219240 & 1 & 10 & 0.078349 & 10 & 100 & 0.106323 & 100 & -99 & 0.596088 & NA\\\\\n",
       "\t 0 & 1 & 0.200475 & 1 & 10 & 0.059637 & 10 & 100 & 0.077376 & 100 & -99 & 0.662512 & NA\\\\\n",
       "\t 0 & 1 & 0.255076 & 1 & 10 & 0.031124 & 10 & 100 & 0.034922 & 100 & -99 & 0.678879 & NA\\\\\n",
       "\t 0 & 1 & 0.216372 & 1 & 10 & 0.042808 & 10 & 100 & 0.051277 & 100 & -99 & 0.689543 & NA\\\\\n",
       "\t 0 & 1 & 0.211890 & 1 & 10 & 0.048192 & 10 & 100 & 0.059153 & 100 & -99 & 0.680765 & NA\\\\\n",
       "\\end{tabular}\n"
      ],
      "text/markdown": [
       "\n",
       "A tibble: 6 × 13\n",
       "\n",
       "| X1 &lt;dbl&gt; | X2 &lt;dbl&gt; | X3 &lt;dbl&gt; | X4 &lt;dbl&gt; | X5 &lt;dbl&gt; | X6 &lt;dbl&gt; | X7 &lt;dbl&gt; | X8 &lt;dbl&gt; | X9 &lt;dbl&gt; | X10 &lt;dbl&gt; | X11 &lt;dbl&gt; | X12 &lt;dbl&gt; | X13 &lt;lgl&gt; |\n",
       "|---|---|---|---|---|---|---|---|---|---|---|---|---|\n",
       "| 0 | 1 | 0.257502 | 1 | 10 | 0.040062 | 10 | 100 | 0.046295 | 100 | -99 | 0.656141 | NA |\n",
       "| 0 | 1 | 0.219240 | 1 | 10 | 0.078349 | 10 | 100 | 0.106323 | 100 | -99 | 0.596088 | NA |\n",
       "| 0 | 1 | 0.200475 | 1 | 10 | 0.059637 | 10 | 100 | 0.077376 | 100 | -99 | 0.662512 | NA |\n",
       "| 0 | 1 | 0.255076 | 1 | 10 | 0.031124 | 10 | 100 | 0.034922 | 100 | -99 | 0.678879 | NA |\n",
       "| 0 | 1 | 0.216372 | 1 | 10 | 0.042808 | 10 | 100 | 0.051277 | 100 | -99 | 0.689543 | NA |\n",
       "| 0 | 1 | 0.211890 | 1 | 10 | 0.048192 | 10 | 100 | 0.059153 | 100 | -99 | 0.680765 | NA |\n",
       "\n"
      ],
      "text/plain": [
       "  X1 X2 X3       X4 X5 X6       X7 X8  X9       X10 X11 X12      X13\n",
       "1 0  1  0.257502 1  10 0.040062 10 100 0.046295 100 -99 0.656141 NA \n",
       "2 0  1  0.219240 1  10 0.078349 10 100 0.106323 100 -99 0.596088 NA \n",
       "3 0  1  0.200475 1  10 0.059637 10 100 0.077376 100 -99 0.662512 NA \n",
       "4 0  1  0.255076 1  10 0.031124 10 100 0.034922 100 -99 0.678879 NA \n",
       "5 0  1  0.216372 1  10 0.042808 10 100 0.051277 100 -99 0.689543 NA \n",
       "6 0  1  0.211890 1  10 0.048192 10 100 0.059153 100 -99 0.680765 NA "
      ]
     },
     "metadata": {},
     "output_type": "display_data"
    }
   ],
   "source": [
    "d_upper <- read_delim('dfe_outfile_upper10th_chlamynet_betweenness_centrality.csv', delim = ' ', col_names = FALSE);\n",
    "d_lower <- read_delim('dfe_outfile_lower10th_chlamynet_betweenness_centrality.csv', delim = ' ', col_names = FALSE);\n",
    "dim(d_upper); dim(d_lower);\n",
    "\n",
    "head(d_upper); head(d_lower)"
   ]
  },
  {
   "cell_type": "code",
   "execution_count": 16,
   "metadata": {},
   "outputs": [],
   "source": [
    "library(purrr)"
   ]
  },
  {
   "cell_type": "code",
   "execution_count": 17,
   "metadata": {},
   "outputs": [],
   "source": [
    "dfe <- lapply(ls(pattern = 'd*r'), get)\n",
    "names(dfe) <- ls(pattern = 'd*r')"
   ]
  },
  {
   "cell_type": "code",
   "execution_count": 18,
   "metadata": {},
   "outputs": [
    {
     "data": {
      "text/html": [
       "<dl>\n",
       "\t<dt>$d_lower</dt>\n",
       "\t\t<dd><table>\n",
       "<caption>A tibble: 6 × 13</caption>\n",
       "<thead>\n",
       "\t<tr><th scope=col>X1</th><th scope=col>X2</th><th scope=col>X3</th><th scope=col>X4</th><th scope=col>X5</th><th scope=col>X6</th><th scope=col>X7</th><th scope=col>X8</th><th scope=col>X9</th><th scope=col>X10</th><th scope=col>X11</th><th scope=col>X12</th><th scope=col>X13</th></tr>\n",
       "\t<tr><th scope=col>&lt;dbl&gt;</th><th scope=col>&lt;dbl&gt;</th><th scope=col>&lt;dbl&gt;</th><th scope=col>&lt;dbl&gt;</th><th scope=col>&lt;dbl&gt;</th><th scope=col>&lt;dbl&gt;</th><th scope=col>&lt;dbl&gt;</th><th scope=col>&lt;dbl&gt;</th><th scope=col>&lt;dbl&gt;</th><th scope=col>&lt;dbl&gt;</th><th scope=col>&lt;dbl&gt;</th><th scope=col>&lt;dbl&gt;</th><th scope=col>&lt;lgl&gt;</th></tr>\n",
       "</thead>\n",
       "<tbody>\n",
       "\t<tr><td>0</td><td>1</td><td>0.257502</td><td>1</td><td>10</td><td>0.040062</td><td>10</td><td>100</td><td>0.046295</td><td>100</td><td>-99</td><td>0.656141</td><td>NA</td></tr>\n",
       "\t<tr><td>0</td><td>1</td><td>0.219240</td><td>1</td><td>10</td><td>0.078349</td><td>10</td><td>100</td><td>0.106323</td><td>100</td><td>-99</td><td>0.596088</td><td>NA</td></tr>\n",
       "\t<tr><td>0</td><td>1</td><td>0.200475</td><td>1</td><td>10</td><td>0.059637</td><td>10</td><td>100</td><td>0.077376</td><td>100</td><td>-99</td><td>0.662512</td><td>NA</td></tr>\n",
       "\t<tr><td>0</td><td>1</td><td>0.255076</td><td>1</td><td>10</td><td>0.031124</td><td>10</td><td>100</td><td>0.034922</td><td>100</td><td>-99</td><td>0.678879</td><td>NA</td></tr>\n",
       "\t<tr><td>0</td><td>1</td><td>0.216372</td><td>1</td><td>10</td><td>0.042808</td><td>10</td><td>100</td><td>0.051277</td><td>100</td><td>-99</td><td>0.689543</td><td>NA</td></tr>\n",
       "\t<tr><td>0</td><td>1</td><td>0.211890</td><td>1</td><td>10</td><td>0.048192</td><td>10</td><td>100</td><td>0.059153</td><td>100</td><td>-99</td><td>0.680765</td><td>NA</td></tr>\n",
       "</tbody>\n",
       "</table>\n",
       "</dd>\n",
       "\t<dt>$d_upper</dt>\n",
       "\t\t<dd><table>\n",
       "<caption>A tibble: 6 × 13</caption>\n",
       "<thead>\n",
       "\t<tr><th scope=col>X1</th><th scope=col>X2</th><th scope=col>X3</th><th scope=col>X4</th><th scope=col>X5</th><th scope=col>X6</th><th scope=col>X7</th><th scope=col>X8</th><th scope=col>X9</th><th scope=col>X10</th><th scope=col>X11</th><th scope=col>X12</th><th scope=col>X13</th></tr>\n",
       "\t<tr><th scope=col>&lt;dbl&gt;</th><th scope=col>&lt;dbl&gt;</th><th scope=col>&lt;dbl&gt;</th><th scope=col>&lt;dbl&gt;</th><th scope=col>&lt;dbl&gt;</th><th scope=col>&lt;dbl&gt;</th><th scope=col>&lt;dbl&gt;</th><th scope=col>&lt;dbl&gt;</th><th scope=col>&lt;dbl&gt;</th><th scope=col>&lt;dbl&gt;</th><th scope=col>&lt;dbl&gt;</th><th scope=col>&lt;dbl&gt;</th><th scope=col>&lt;lgl&gt;</th></tr>\n",
       "</thead>\n",
       "<tbody>\n",
       "\t<tr><td>0</td><td>1</td><td>0.171262</td><td>1</td><td>10</td><td>0.065417</td><td>10</td><td>100</td><td>0.090397</td><td>100</td><td>-99</td><td>0.672924</td><td>NA</td></tr>\n",
       "\t<tr><td>0</td><td>1</td><td>0.236810</td><td>1</td><td>10</td><td>0.050996</td><td>10</td><td>100</td><td>0.061978</td><td>100</td><td>-99</td><td>0.650216</td><td>NA</td></tr>\n",
       "\t<tr><td>0</td><td>1</td><td>0.212262</td><td>1</td><td>10</td><td>0.042757</td><td>10</td><td>100</td><td>0.051369</td><td>100</td><td>-99</td><td>0.693612</td><td>NA</td></tr>\n",
       "\t<tr><td>0</td><td>1</td><td>0.229608</td><td>1</td><td>10</td><td>0.071822</td><td>10</td><td>100</td><td>0.094280</td><td>100</td><td>-99</td><td>0.604290</td><td>NA</td></tr>\n",
       "\t<tr><td>0</td><td>1</td><td>0.226238</td><td>1</td><td>10</td><td>0.054348</td><td>10</td><td>100</td><td>0.067403</td><td>100</td><td>-99</td><td>0.652010</td><td>NA</td></tr>\n",
       "\t<tr><td>0</td><td>1</td><td>0.183967</td><td>1</td><td>10</td><td>0.043145</td><td>10</td><td>100</td><td>0.053264</td><td>100</td><td>-99</td><td>0.719624</td><td>NA</td></tr>\n",
       "</tbody>\n",
       "</table>\n",
       "</dd>\n",
       "</dl>\n"
      ],
      "text/latex": [
       "\\begin{description}\n",
       "\\item[\\$d\\_lower] A tibble: 6 × 13\n",
       "\\begin{tabular}{r|lllllllllllll}\n",
       " X1 & X2 & X3 & X4 & X5 & X6 & X7 & X8 & X9 & X10 & X11 & X12 & X13\\\\\n",
       " <dbl> & <dbl> & <dbl> & <dbl> & <dbl> & <dbl> & <dbl> & <dbl> & <dbl> & <dbl> & <dbl> & <dbl> & <lgl>\\\\\n",
       "\\hline\n",
       "\t 0 & 1 & 0.257502 & 1 & 10 & 0.040062 & 10 & 100 & 0.046295 & 100 & -99 & 0.656141 & NA\\\\\n",
       "\t 0 & 1 & 0.219240 & 1 & 10 & 0.078349 & 10 & 100 & 0.106323 & 100 & -99 & 0.596088 & NA\\\\\n",
       "\t 0 & 1 & 0.200475 & 1 & 10 & 0.059637 & 10 & 100 & 0.077376 & 100 & -99 & 0.662512 & NA\\\\\n",
       "\t 0 & 1 & 0.255076 & 1 & 10 & 0.031124 & 10 & 100 & 0.034922 & 100 & -99 & 0.678879 & NA\\\\\n",
       "\t 0 & 1 & 0.216372 & 1 & 10 & 0.042808 & 10 & 100 & 0.051277 & 100 & -99 & 0.689543 & NA\\\\\n",
       "\t 0 & 1 & 0.211890 & 1 & 10 & 0.048192 & 10 & 100 & 0.059153 & 100 & -99 & 0.680765 & NA\\\\\n",
       "\\end{tabular}\n",
       "\n",
       "\\item[\\$d\\_upper] A tibble: 6 × 13\n",
       "\\begin{tabular}{r|lllllllllllll}\n",
       " X1 & X2 & X3 & X4 & X5 & X6 & X7 & X8 & X9 & X10 & X11 & X12 & X13\\\\\n",
       " <dbl> & <dbl> & <dbl> & <dbl> & <dbl> & <dbl> & <dbl> & <dbl> & <dbl> & <dbl> & <dbl> & <dbl> & <lgl>\\\\\n",
       "\\hline\n",
       "\t 0 & 1 & 0.171262 & 1 & 10 & 0.065417 & 10 & 100 & 0.090397 & 100 & -99 & 0.672924 & NA\\\\\n",
       "\t 0 & 1 & 0.236810 & 1 & 10 & 0.050996 & 10 & 100 & 0.061978 & 100 & -99 & 0.650216 & NA\\\\\n",
       "\t 0 & 1 & 0.212262 & 1 & 10 & 0.042757 & 10 & 100 & 0.051369 & 100 & -99 & 0.693612 & NA\\\\\n",
       "\t 0 & 1 & 0.229608 & 1 & 10 & 0.071822 & 10 & 100 & 0.094280 & 100 & -99 & 0.604290 & NA\\\\\n",
       "\t 0 & 1 & 0.226238 & 1 & 10 & 0.054348 & 10 & 100 & 0.067403 & 100 & -99 & 0.652010 & NA\\\\\n",
       "\t 0 & 1 & 0.183967 & 1 & 10 & 0.043145 & 10 & 100 & 0.053264 & 100 & -99 & 0.719624 & NA\\\\\n",
       "\\end{tabular}\n",
       "\n",
       "\\end{description}\n"
      ],
      "text/markdown": [
       "$d_lower\n",
       ":   \n",
       "A tibble: 6 × 13\n",
       "\n",
       "| X1 &lt;dbl&gt; | X2 &lt;dbl&gt; | X3 &lt;dbl&gt; | X4 &lt;dbl&gt; | X5 &lt;dbl&gt; | X6 &lt;dbl&gt; | X7 &lt;dbl&gt; | X8 &lt;dbl&gt; | X9 &lt;dbl&gt; | X10 &lt;dbl&gt; | X11 &lt;dbl&gt; | X12 &lt;dbl&gt; | X13 &lt;lgl&gt; |\n",
       "|---|---|---|---|---|---|---|---|---|---|---|---|---|\n",
       "| 0 | 1 | 0.257502 | 1 | 10 | 0.040062 | 10 | 100 | 0.046295 | 100 | -99 | 0.656141 | NA |\n",
       "| 0 | 1 | 0.219240 | 1 | 10 | 0.078349 | 10 | 100 | 0.106323 | 100 | -99 | 0.596088 | NA |\n",
       "| 0 | 1 | 0.200475 | 1 | 10 | 0.059637 | 10 | 100 | 0.077376 | 100 | -99 | 0.662512 | NA |\n",
       "| 0 | 1 | 0.255076 | 1 | 10 | 0.031124 | 10 | 100 | 0.034922 | 100 | -99 | 0.678879 | NA |\n",
       "| 0 | 1 | 0.216372 | 1 | 10 | 0.042808 | 10 | 100 | 0.051277 | 100 | -99 | 0.689543 | NA |\n",
       "| 0 | 1 | 0.211890 | 1 | 10 | 0.048192 | 10 | 100 | 0.059153 | 100 | -99 | 0.680765 | NA |\n",
       "\n",
       "\n",
       "$d_upper\n",
       ":   \n",
       "A tibble: 6 × 13\n",
       "\n",
       "| X1 &lt;dbl&gt; | X2 &lt;dbl&gt; | X3 &lt;dbl&gt; | X4 &lt;dbl&gt; | X5 &lt;dbl&gt; | X6 &lt;dbl&gt; | X7 &lt;dbl&gt; | X8 &lt;dbl&gt; | X9 &lt;dbl&gt; | X10 &lt;dbl&gt; | X11 &lt;dbl&gt; | X12 &lt;dbl&gt; | X13 &lt;lgl&gt; |\n",
       "|---|---|---|---|---|---|---|---|---|---|---|---|---|\n",
       "| 0 | 1 | 0.171262 | 1 | 10 | 0.065417 | 10 | 100 | 0.090397 | 100 | -99 | 0.672924 | NA |\n",
       "| 0 | 1 | 0.236810 | 1 | 10 | 0.050996 | 10 | 100 | 0.061978 | 100 | -99 | 0.650216 | NA |\n",
       "| 0 | 1 | 0.212262 | 1 | 10 | 0.042757 | 10 | 100 | 0.051369 | 100 | -99 | 0.693612 | NA |\n",
       "| 0 | 1 | 0.229608 | 1 | 10 | 0.071822 | 10 | 100 | 0.094280 | 100 | -99 | 0.604290 | NA |\n",
       "| 0 | 1 | 0.226238 | 1 | 10 | 0.054348 | 10 | 100 | 0.067403 | 100 | -99 | 0.652010 | NA |\n",
       "| 0 | 1 | 0.183967 | 1 | 10 | 0.043145 | 10 | 100 | 0.053264 | 100 | -99 | 0.719624 | NA |\n",
       "\n",
       "\n",
       "\n",
       "\n"
      ],
      "text/plain": [
       "$d_lower\n",
       "\u001b[38;5;246m# A tibble: 6 x 13\u001b[39m\n",
       "     X1    X2    X3    X4    X5     X6    X7    X8     X9   X10   X11   X12\n",
       "  \u001b[3m\u001b[38;5;246m<dbl>\u001b[39m\u001b[23m \u001b[3m\u001b[38;5;246m<dbl>\u001b[39m\u001b[23m \u001b[3m\u001b[38;5;246m<dbl>\u001b[39m\u001b[23m \u001b[3m\u001b[38;5;246m<dbl>\u001b[39m\u001b[23m \u001b[3m\u001b[38;5;246m<dbl>\u001b[39m\u001b[23m  \u001b[3m\u001b[38;5;246m<dbl>\u001b[39m\u001b[23m \u001b[3m\u001b[38;5;246m<dbl>\u001b[39m\u001b[23m \u001b[3m\u001b[38;5;246m<dbl>\u001b[39m\u001b[23m  \u001b[3m\u001b[38;5;246m<dbl>\u001b[39m\u001b[23m \u001b[3m\u001b[38;5;246m<dbl>\u001b[39m\u001b[23m \u001b[3m\u001b[38;5;246m<dbl>\u001b[39m\u001b[23m \u001b[3m\u001b[38;5;246m<dbl>\u001b[39m\u001b[23m\n",
       "\u001b[38;5;250m1\u001b[39m     0     1 0.258     1    10 0.040\u001b[4m1\u001b[24m    10   100 0.046\u001b[4m3\u001b[24m   100   -\u001b[31m99\u001b[39m 0.656\n",
       "\u001b[38;5;250m2\u001b[39m     0     1 0.219     1    10 0.078\u001b[4m3\u001b[24m    10   100 0.106    100   -\u001b[31m99\u001b[39m 0.596\n",
       "\u001b[38;5;250m3\u001b[39m     0     1 0.200     1    10 0.059\u001b[4m6\u001b[24m    10   100 0.077\u001b[4m4\u001b[24m   100   -\u001b[31m99\u001b[39m 0.663\n",
       "\u001b[38;5;250m4\u001b[39m     0     1 0.255     1    10 0.031\u001b[4m1\u001b[24m    10   100 0.034\u001b[4m9\u001b[24m   100   -\u001b[31m99\u001b[39m 0.679\n",
       "\u001b[38;5;250m5\u001b[39m     0     1 0.216     1    10 0.042\u001b[4m8\u001b[24m    10   100 0.051\u001b[4m3\u001b[24m   100   -\u001b[31m99\u001b[39m 0.690\n",
       "\u001b[38;5;250m6\u001b[39m     0     1 0.212     1    10 0.048\u001b[4m2\u001b[24m    10   100 0.059\u001b[4m2\u001b[24m   100   -\u001b[31m99\u001b[39m 0.681\n",
       "\u001b[38;5;246m# … with 1 more variable: X13 \u001b[3m\u001b[38;5;246m<lgl>\u001b[38;5;246m\u001b[23m\u001b[39m\n",
       "\n",
       "$d_upper\n",
       "\u001b[38;5;246m# A tibble: 6 x 13\u001b[39m\n",
       "     X1    X2    X3    X4    X5     X6    X7    X8     X9   X10   X11   X12\n",
       "  \u001b[3m\u001b[38;5;246m<dbl>\u001b[39m\u001b[23m \u001b[3m\u001b[38;5;246m<dbl>\u001b[39m\u001b[23m \u001b[3m\u001b[38;5;246m<dbl>\u001b[39m\u001b[23m \u001b[3m\u001b[38;5;246m<dbl>\u001b[39m\u001b[23m \u001b[3m\u001b[38;5;246m<dbl>\u001b[39m\u001b[23m  \u001b[3m\u001b[38;5;246m<dbl>\u001b[39m\u001b[23m \u001b[3m\u001b[38;5;246m<dbl>\u001b[39m\u001b[23m \u001b[3m\u001b[38;5;246m<dbl>\u001b[39m\u001b[23m  \u001b[3m\u001b[38;5;246m<dbl>\u001b[39m\u001b[23m \u001b[3m\u001b[38;5;246m<dbl>\u001b[39m\u001b[23m \u001b[3m\u001b[38;5;246m<dbl>\u001b[39m\u001b[23m \u001b[3m\u001b[38;5;246m<dbl>\u001b[39m\u001b[23m\n",
       "\u001b[38;5;250m1\u001b[39m     0     1 0.171     1    10 0.065\u001b[4m4\u001b[24m    10   100 0.090\u001b[4m4\u001b[24m   100   -\u001b[31m99\u001b[39m 0.673\n",
       "\u001b[38;5;250m2\u001b[39m     0     1 0.237     1    10 0.051\u001b[4m0\u001b[24m    10   100 0.062\u001b[4m0\u001b[24m   100   -\u001b[31m99\u001b[39m 0.650\n",
       "\u001b[38;5;250m3\u001b[39m     0     1 0.212     1    10 0.042\u001b[4m8\u001b[24m    10   100 0.051\u001b[4m4\u001b[24m   100   -\u001b[31m99\u001b[39m 0.694\n",
       "\u001b[38;5;250m4\u001b[39m     0     1 0.230     1    10 0.071\u001b[4m8\u001b[24m    10   100 0.094\u001b[4m3\u001b[24m   100   -\u001b[31m99\u001b[39m 0.604\n",
       "\u001b[38;5;250m5\u001b[39m     0     1 0.226     1    10 0.054\u001b[4m3\u001b[24m    10   100 0.067\u001b[4m4\u001b[24m   100   -\u001b[31m99\u001b[39m 0.652\n",
       "\u001b[38;5;250m6\u001b[39m     0     1 0.184     1    10 0.043\u001b[4m1\u001b[24m    10   100 0.053\u001b[4m3\u001b[24m   100   -\u001b[31m99\u001b[39m 0.720\n",
       "\u001b[38;5;246m# … with 1 more variable: X13 \u001b[3m\u001b[38;5;246m<lgl>\u001b[38;5;246m\u001b[23m\u001b[39m\n"
      ]
     },
     "metadata": {},
     "output_type": "display_data"
    }
   ],
   "source": [
    "lapply(dfe, function(df) head(df))"
   ]
  },
  {
   "cell_type": "code",
   "execution_count": 19,
   "metadata": {},
   "outputs": [
    {
     "data": {
      "text/html": [
       "<dl>\n",
       "\t<dt>$d_lower</dt>\n",
       "\t\t<dd><table>\n",
       "<caption>A tibble: 6 × 4</caption>\n",
       "<thead>\n",
       "\t<tr><th scope=col>group_1</th><th scope=col>group_2</th><th scope=col>group_3</th><th scope=col>group_4</th></tr>\n",
       "\t<tr><th scope=col>&lt;dbl&gt;</th><th scope=col>&lt;dbl&gt;</th><th scope=col>&lt;dbl&gt;</th><th scope=col>&lt;dbl&gt;</th></tr>\n",
       "</thead>\n",
       "<tbody>\n",
       "\t<tr><td>0.257502</td><td>0.040062</td><td>0.046295</td><td>0.656141</td></tr>\n",
       "\t<tr><td>0.219240</td><td>0.078349</td><td>0.106323</td><td>0.596088</td></tr>\n",
       "\t<tr><td>0.200475</td><td>0.059637</td><td>0.077376</td><td>0.662512</td></tr>\n",
       "\t<tr><td>0.255076</td><td>0.031124</td><td>0.034922</td><td>0.678879</td></tr>\n",
       "\t<tr><td>0.216372</td><td>0.042808</td><td>0.051277</td><td>0.689543</td></tr>\n",
       "\t<tr><td>0.211890</td><td>0.048192</td><td>0.059153</td><td>0.680765</td></tr>\n",
       "</tbody>\n",
       "</table>\n",
       "</dd>\n",
       "\t<dt>$d_upper</dt>\n",
       "\t\t<dd><table>\n",
       "<caption>A tibble: 6 × 4</caption>\n",
       "<thead>\n",
       "\t<tr><th scope=col>group_1</th><th scope=col>group_2</th><th scope=col>group_3</th><th scope=col>group_4</th></tr>\n",
       "\t<tr><th scope=col>&lt;dbl&gt;</th><th scope=col>&lt;dbl&gt;</th><th scope=col>&lt;dbl&gt;</th><th scope=col>&lt;dbl&gt;</th></tr>\n",
       "</thead>\n",
       "<tbody>\n",
       "\t<tr><td>0.171262</td><td>0.065417</td><td>0.090397</td><td>0.672924</td></tr>\n",
       "\t<tr><td>0.236810</td><td>0.050996</td><td>0.061978</td><td>0.650216</td></tr>\n",
       "\t<tr><td>0.212262</td><td>0.042757</td><td>0.051369</td><td>0.693612</td></tr>\n",
       "\t<tr><td>0.229608</td><td>0.071822</td><td>0.094280</td><td>0.604290</td></tr>\n",
       "\t<tr><td>0.226238</td><td>0.054348</td><td>0.067403</td><td>0.652010</td></tr>\n",
       "\t<tr><td>0.183967</td><td>0.043145</td><td>0.053264</td><td>0.719624</td></tr>\n",
       "</tbody>\n",
       "</table>\n",
       "</dd>\n",
       "</dl>\n"
      ],
      "text/latex": [
       "\\begin{description}\n",
       "\\item[\\$d\\_lower] A tibble: 6 × 4\n",
       "\\begin{tabular}{r|llll}\n",
       " group\\_1 & group\\_2 & group\\_3 & group\\_4\\\\\n",
       " <dbl> & <dbl> & <dbl> & <dbl>\\\\\n",
       "\\hline\n",
       "\t 0.257502 & 0.040062 & 0.046295 & 0.656141\\\\\n",
       "\t 0.219240 & 0.078349 & 0.106323 & 0.596088\\\\\n",
       "\t 0.200475 & 0.059637 & 0.077376 & 0.662512\\\\\n",
       "\t 0.255076 & 0.031124 & 0.034922 & 0.678879\\\\\n",
       "\t 0.216372 & 0.042808 & 0.051277 & 0.689543\\\\\n",
       "\t 0.211890 & 0.048192 & 0.059153 & 0.680765\\\\\n",
       "\\end{tabular}\n",
       "\n",
       "\\item[\\$d\\_upper] A tibble: 6 × 4\n",
       "\\begin{tabular}{r|llll}\n",
       " group\\_1 & group\\_2 & group\\_3 & group\\_4\\\\\n",
       " <dbl> & <dbl> & <dbl> & <dbl>\\\\\n",
       "\\hline\n",
       "\t 0.171262 & 0.065417 & 0.090397 & 0.672924\\\\\n",
       "\t 0.236810 & 0.050996 & 0.061978 & 0.650216\\\\\n",
       "\t 0.212262 & 0.042757 & 0.051369 & 0.693612\\\\\n",
       "\t 0.229608 & 0.071822 & 0.094280 & 0.604290\\\\\n",
       "\t 0.226238 & 0.054348 & 0.067403 & 0.652010\\\\\n",
       "\t 0.183967 & 0.043145 & 0.053264 & 0.719624\\\\\n",
       "\\end{tabular}\n",
       "\n",
       "\\end{description}\n"
      ],
      "text/markdown": [
       "$d_lower\n",
       ":   \n",
       "A tibble: 6 × 4\n",
       "\n",
       "| group_1 &lt;dbl&gt; | group_2 &lt;dbl&gt; | group_3 &lt;dbl&gt; | group_4 &lt;dbl&gt; |\n",
       "|---|---|---|---|\n",
       "| 0.257502 | 0.040062 | 0.046295 | 0.656141 |\n",
       "| 0.219240 | 0.078349 | 0.106323 | 0.596088 |\n",
       "| 0.200475 | 0.059637 | 0.077376 | 0.662512 |\n",
       "| 0.255076 | 0.031124 | 0.034922 | 0.678879 |\n",
       "| 0.216372 | 0.042808 | 0.051277 | 0.689543 |\n",
       "| 0.211890 | 0.048192 | 0.059153 | 0.680765 |\n",
       "\n",
       "\n",
       "$d_upper\n",
       ":   \n",
       "A tibble: 6 × 4\n",
       "\n",
       "| group_1 &lt;dbl&gt; | group_2 &lt;dbl&gt; | group_3 &lt;dbl&gt; | group_4 &lt;dbl&gt; |\n",
       "|---|---|---|---|\n",
       "| 0.171262 | 0.065417 | 0.090397 | 0.672924 |\n",
       "| 0.236810 | 0.050996 | 0.061978 | 0.650216 |\n",
       "| 0.212262 | 0.042757 | 0.051369 | 0.693612 |\n",
       "| 0.229608 | 0.071822 | 0.094280 | 0.604290 |\n",
       "| 0.226238 | 0.054348 | 0.067403 | 0.652010 |\n",
       "| 0.183967 | 0.043145 | 0.053264 | 0.719624 |\n",
       "\n",
       "\n",
       "\n",
       "\n"
      ],
      "text/plain": [
       "$d_lower\n",
       "\u001b[38;5;246m# A tibble: 6 x 4\u001b[39m\n",
       "  group_1 group_2 group_3 group_4\n",
       "    \u001b[3m\u001b[38;5;246m<dbl>\u001b[39m\u001b[23m   \u001b[3m\u001b[38;5;246m<dbl>\u001b[39m\u001b[23m   \u001b[3m\u001b[38;5;246m<dbl>\u001b[39m\u001b[23m   \u001b[3m\u001b[38;5;246m<dbl>\u001b[39m\u001b[23m\n",
       "\u001b[38;5;250m1\u001b[39m   0.258  0.040\u001b[4m1\u001b[24m  0.046\u001b[4m3\u001b[24m   0.656\n",
       "\u001b[38;5;250m2\u001b[39m   0.219  0.078\u001b[4m3\u001b[24m  0.106    0.596\n",
       "\u001b[38;5;250m3\u001b[39m   0.200  0.059\u001b[4m6\u001b[24m  0.077\u001b[4m4\u001b[24m   0.663\n",
       "\u001b[38;5;250m4\u001b[39m   0.255  0.031\u001b[4m1\u001b[24m  0.034\u001b[4m9\u001b[24m   0.679\n",
       "\u001b[38;5;250m5\u001b[39m   0.216  0.042\u001b[4m8\u001b[24m  0.051\u001b[4m3\u001b[24m   0.690\n",
       "\u001b[38;5;250m6\u001b[39m   0.212  0.048\u001b[4m2\u001b[24m  0.059\u001b[4m2\u001b[24m   0.681\n",
       "\n",
       "$d_upper\n",
       "\u001b[38;5;246m# A tibble: 6 x 4\u001b[39m\n",
       "  group_1 group_2 group_3 group_4\n",
       "    \u001b[3m\u001b[38;5;246m<dbl>\u001b[39m\u001b[23m   \u001b[3m\u001b[38;5;246m<dbl>\u001b[39m\u001b[23m   \u001b[3m\u001b[38;5;246m<dbl>\u001b[39m\u001b[23m   \u001b[3m\u001b[38;5;246m<dbl>\u001b[39m\u001b[23m\n",
       "\u001b[38;5;250m1\u001b[39m   0.171  0.065\u001b[4m4\u001b[24m  0.090\u001b[4m4\u001b[24m   0.673\n",
       "\u001b[38;5;250m2\u001b[39m   0.237  0.051\u001b[4m0\u001b[24m  0.062\u001b[4m0\u001b[24m   0.650\n",
       "\u001b[38;5;250m3\u001b[39m   0.212  0.042\u001b[4m8\u001b[24m  0.051\u001b[4m4\u001b[24m   0.694\n",
       "\u001b[38;5;250m4\u001b[39m   0.230  0.071\u001b[4m8\u001b[24m  0.094\u001b[4m3\u001b[24m   0.604\n",
       "\u001b[38;5;250m5\u001b[39m   0.226  0.054\u001b[4m3\u001b[24m  0.067\u001b[4m4\u001b[24m   0.652\n",
       "\u001b[38;5;250m6\u001b[39m   0.184  0.043\u001b[4m1\u001b[24m  0.053\u001b[4m3\u001b[24m   0.720\n"
      ]
     },
     "metadata": {},
     "output_type": "display_data"
    }
   ],
   "source": [
    "dfe %<>% \n",
    "    lapply(function(df) select(df, group_1 = X3, group_2 = X6, group_3 = X9, group_4 = X12))\n",
    "        \n",
    "lapply(dfe, function(df) head(df))       "
   ]
  },
  {
   "cell_type": "code",
   "execution_count": 20,
   "metadata": {},
   "outputs": [
    {
     "data": {
      "text/html": [
       "<table>\n",
       "<caption>A tibble: 6 × 8</caption>\n",
       "<thead>\n",
       "\t<tr><th scope=col>group_1</th><th scope=col>group_2</th><th scope=col>group_3</th><th scope=col>group_4</th><th scope=col>group_11</th><th scope=col>group_21</th><th scope=col>group_31</th><th scope=col>group_41</th></tr>\n",
       "\t<tr><th scope=col>&lt;dbl&gt;</th><th scope=col>&lt;dbl&gt;</th><th scope=col>&lt;dbl&gt;</th><th scope=col>&lt;dbl&gt;</th><th scope=col>&lt;dbl&gt;</th><th scope=col>&lt;dbl&gt;</th><th scope=col>&lt;dbl&gt;</th><th scope=col>&lt;dbl&gt;</th></tr>\n",
       "</thead>\n",
       "<tbody>\n",
       "\t<tr><td>0.257502</td><td>0.040062</td><td>0.046295</td><td>0.656141</td><td>0.171262</td><td>0.065417</td><td>0.090397</td><td>0.672924</td></tr>\n",
       "\t<tr><td>0.219240</td><td>0.078349</td><td>0.106323</td><td>0.596088</td><td>0.236810</td><td>0.050996</td><td>0.061978</td><td>0.650216</td></tr>\n",
       "\t<tr><td>0.200475</td><td>0.059637</td><td>0.077376</td><td>0.662512</td><td>0.212262</td><td>0.042757</td><td>0.051369</td><td>0.693612</td></tr>\n",
       "\t<tr><td>0.255076</td><td>0.031124</td><td>0.034922</td><td>0.678879</td><td>0.229608</td><td>0.071822</td><td>0.094280</td><td>0.604290</td></tr>\n",
       "\t<tr><td>0.216372</td><td>0.042808</td><td>0.051277</td><td>0.689543</td><td>0.226238</td><td>0.054348</td><td>0.067403</td><td>0.652010</td></tr>\n",
       "\t<tr><td>0.211890</td><td>0.048192</td><td>0.059153</td><td>0.680765</td><td>0.183967</td><td>0.043145</td><td>0.053264</td><td>0.719624</td></tr>\n",
       "</tbody>\n",
       "</table>\n"
      ],
      "text/latex": [
       "A tibble: 6 × 8\n",
       "\\begin{tabular}{r|llllllll}\n",
       " group\\_1 & group\\_2 & group\\_3 & group\\_4 & group\\_11 & group\\_21 & group\\_31 & group\\_41\\\\\n",
       " <dbl> & <dbl> & <dbl> & <dbl> & <dbl> & <dbl> & <dbl> & <dbl>\\\\\n",
       "\\hline\n",
       "\t 0.257502 & 0.040062 & 0.046295 & 0.656141 & 0.171262 & 0.065417 & 0.090397 & 0.672924\\\\\n",
       "\t 0.219240 & 0.078349 & 0.106323 & 0.596088 & 0.236810 & 0.050996 & 0.061978 & 0.650216\\\\\n",
       "\t 0.200475 & 0.059637 & 0.077376 & 0.662512 & 0.212262 & 0.042757 & 0.051369 & 0.693612\\\\\n",
       "\t 0.255076 & 0.031124 & 0.034922 & 0.678879 & 0.229608 & 0.071822 & 0.094280 & 0.604290\\\\\n",
       "\t 0.216372 & 0.042808 & 0.051277 & 0.689543 & 0.226238 & 0.054348 & 0.067403 & 0.652010\\\\\n",
       "\t 0.211890 & 0.048192 & 0.059153 & 0.680765 & 0.183967 & 0.043145 & 0.053264 & 0.719624\\\\\n",
       "\\end{tabular}\n"
      ],
      "text/markdown": [
       "\n",
       "A tibble: 6 × 8\n",
       "\n",
       "| group_1 &lt;dbl&gt; | group_2 &lt;dbl&gt; | group_3 &lt;dbl&gt; | group_4 &lt;dbl&gt; | group_11 &lt;dbl&gt; | group_21 &lt;dbl&gt; | group_31 &lt;dbl&gt; | group_41 &lt;dbl&gt; |\n",
       "|---|---|---|---|---|---|---|---|\n",
       "| 0.257502 | 0.040062 | 0.046295 | 0.656141 | 0.171262 | 0.065417 | 0.090397 | 0.672924 |\n",
       "| 0.219240 | 0.078349 | 0.106323 | 0.596088 | 0.236810 | 0.050996 | 0.061978 | 0.650216 |\n",
       "| 0.200475 | 0.059637 | 0.077376 | 0.662512 | 0.212262 | 0.042757 | 0.051369 | 0.693612 |\n",
       "| 0.255076 | 0.031124 | 0.034922 | 0.678879 | 0.229608 | 0.071822 | 0.094280 | 0.604290 |\n",
       "| 0.216372 | 0.042808 | 0.051277 | 0.689543 | 0.226238 | 0.054348 | 0.067403 | 0.652010 |\n",
       "| 0.211890 | 0.048192 | 0.059153 | 0.680765 | 0.183967 | 0.043145 | 0.053264 | 0.719624 |\n",
       "\n"
      ],
      "text/plain": [
       "  group_1  group_2  group_3  group_4  group_11 group_21 group_31 group_41\n",
       "1 0.257502 0.040062 0.046295 0.656141 0.171262 0.065417 0.090397 0.672924\n",
       "2 0.219240 0.078349 0.106323 0.596088 0.236810 0.050996 0.061978 0.650216\n",
       "3 0.200475 0.059637 0.077376 0.662512 0.212262 0.042757 0.051369 0.693612\n",
       "4 0.255076 0.031124 0.034922 0.678879 0.229608 0.071822 0.094280 0.604290\n",
       "5 0.216372 0.042808 0.051277 0.689543 0.226238 0.054348 0.067403 0.652010\n",
       "6 0.211890 0.048192 0.059153 0.680765 0.183967 0.043145 0.053264 0.719624"
      ]
     },
     "metadata": {},
     "output_type": "display_data"
    }
   ],
   "source": [
    "dfe_full <- reduce(dfe, bind_cols)\n",
    "\n",
    "head(dfe_full)"
   ]
  },
  {
   "cell_type": "code",
   "execution_count": 21,
   "metadata": {},
   "outputs": [
    {
     "data": {
      "text/html": [
       "<table>\n",
       "<caption>A tibble: 6 × 8</caption>\n",
       "<thead>\n",
       "\t<tr><th scope=col>0-1 lower</th><th scope=col>1-10 lower</th><th scope=col>10-100 lower</th><th scope=col>100-inf lower</th><th scope=col>0-1 upper</th><th scope=col>1-10 upper</th><th scope=col>10-100 upper</th><th scope=col>100-inf upper</th></tr>\n",
       "\t<tr><th scope=col>&lt;dbl&gt;</th><th scope=col>&lt;dbl&gt;</th><th scope=col>&lt;dbl&gt;</th><th scope=col>&lt;dbl&gt;</th><th scope=col>&lt;dbl&gt;</th><th scope=col>&lt;dbl&gt;</th><th scope=col>&lt;dbl&gt;</th><th scope=col>&lt;dbl&gt;</th></tr>\n",
       "</thead>\n",
       "<tbody>\n",
       "\t<tr><td>0.257502</td><td>0.040062</td><td>0.046295</td><td>0.656141</td><td>0.171262</td><td>0.065417</td><td>0.090397</td><td>0.672924</td></tr>\n",
       "\t<tr><td>0.219240</td><td>0.078349</td><td>0.106323</td><td>0.596088</td><td>0.236810</td><td>0.050996</td><td>0.061978</td><td>0.650216</td></tr>\n",
       "\t<tr><td>0.200475</td><td>0.059637</td><td>0.077376</td><td>0.662512</td><td>0.212262</td><td>0.042757</td><td>0.051369</td><td>0.693612</td></tr>\n",
       "\t<tr><td>0.255076</td><td>0.031124</td><td>0.034922</td><td>0.678879</td><td>0.229608</td><td>0.071822</td><td>0.094280</td><td>0.604290</td></tr>\n",
       "\t<tr><td>0.216372</td><td>0.042808</td><td>0.051277</td><td>0.689543</td><td>0.226238</td><td>0.054348</td><td>0.067403</td><td>0.652010</td></tr>\n",
       "\t<tr><td>0.211890</td><td>0.048192</td><td>0.059153</td><td>0.680765</td><td>0.183967</td><td>0.043145</td><td>0.053264</td><td>0.719624</td></tr>\n",
       "</tbody>\n",
       "</table>\n"
      ],
      "text/latex": [
       "A tibble: 6 × 8\n",
       "\\begin{tabular}{r|llllllll}\n",
       " 0-1 lower & 1-10 lower & 10-100 lower & 100-inf lower & 0-1 upper & 1-10 upper & 10-100 upper & 100-inf upper\\\\\n",
       " <dbl> & <dbl> & <dbl> & <dbl> & <dbl> & <dbl> & <dbl> & <dbl>\\\\\n",
       "\\hline\n",
       "\t 0.257502 & 0.040062 & 0.046295 & 0.656141 & 0.171262 & 0.065417 & 0.090397 & 0.672924\\\\\n",
       "\t 0.219240 & 0.078349 & 0.106323 & 0.596088 & 0.236810 & 0.050996 & 0.061978 & 0.650216\\\\\n",
       "\t 0.200475 & 0.059637 & 0.077376 & 0.662512 & 0.212262 & 0.042757 & 0.051369 & 0.693612\\\\\n",
       "\t 0.255076 & 0.031124 & 0.034922 & 0.678879 & 0.229608 & 0.071822 & 0.094280 & 0.604290\\\\\n",
       "\t 0.216372 & 0.042808 & 0.051277 & 0.689543 & 0.226238 & 0.054348 & 0.067403 & 0.652010\\\\\n",
       "\t 0.211890 & 0.048192 & 0.059153 & 0.680765 & 0.183967 & 0.043145 & 0.053264 & 0.719624\\\\\n",
       "\\end{tabular}\n"
      ],
      "text/markdown": [
       "\n",
       "A tibble: 6 × 8\n",
       "\n",
       "| 0-1 lower &lt;dbl&gt; | 1-10 lower &lt;dbl&gt; | 10-100 lower &lt;dbl&gt; | 100-inf lower &lt;dbl&gt; | 0-1 upper &lt;dbl&gt; | 1-10 upper &lt;dbl&gt; | 10-100 upper &lt;dbl&gt; | 100-inf upper &lt;dbl&gt; |\n",
       "|---|---|---|---|---|---|---|---|\n",
       "| 0.257502 | 0.040062 | 0.046295 | 0.656141 | 0.171262 | 0.065417 | 0.090397 | 0.672924 |\n",
       "| 0.219240 | 0.078349 | 0.106323 | 0.596088 | 0.236810 | 0.050996 | 0.061978 | 0.650216 |\n",
       "| 0.200475 | 0.059637 | 0.077376 | 0.662512 | 0.212262 | 0.042757 | 0.051369 | 0.693612 |\n",
       "| 0.255076 | 0.031124 | 0.034922 | 0.678879 | 0.229608 | 0.071822 | 0.094280 | 0.604290 |\n",
       "| 0.216372 | 0.042808 | 0.051277 | 0.689543 | 0.226238 | 0.054348 | 0.067403 | 0.652010 |\n",
       "| 0.211890 | 0.048192 | 0.059153 | 0.680765 | 0.183967 | 0.043145 | 0.053264 | 0.719624 |\n",
       "\n"
      ],
      "text/plain": [
       "  0-1 lower 1-10 lower 10-100 lower 100-inf lower 0-1 upper 1-10 upper\n",
       "1 0.257502  0.040062   0.046295     0.656141      0.171262  0.065417  \n",
       "2 0.219240  0.078349   0.106323     0.596088      0.236810  0.050996  \n",
       "3 0.200475  0.059637   0.077376     0.662512      0.212262  0.042757  \n",
       "4 0.255076  0.031124   0.034922     0.678879      0.229608  0.071822  \n",
       "5 0.216372  0.042808   0.051277     0.689543      0.226238  0.054348  \n",
       "6 0.211890  0.048192   0.059153     0.680765      0.183967  0.043145  \n",
       "  10-100 upper 100-inf upper\n",
       "1 0.090397     0.672924     \n",
       "2 0.061978     0.650216     \n",
       "3 0.051369     0.693612     \n",
       "4 0.094280     0.604290     \n",
       "5 0.067403     0.652010     \n",
       "6 0.053264     0.719624     "
      ]
     },
     "metadata": {},
     "output_type": "display_data"
    }
   ],
   "source": [
    "dfe_full %<>% rename('0-1 lower' = group_1, '1-10 lower' = group_2, '10-100 lower' = group_3, '100-inf lower' = group_4,\n",
    "                    '0-1 upper' = group_11, '1-10 upper' = group_21, '10-100 upper' = group_31, '100-inf upper' = group_41)\n",
    "\n",
    "head(dfe_full)"
   ]
  },
  {
   "cell_type": "code",
   "execution_count": 22,
   "metadata": {},
   "outputs": [
    {
     "data": {
      "text/html": [
       "<table>\n",
       "<caption>A tibble: 6 × 2</caption>\n",
       "<thead>\n",
       "\t<tr><th scope=col>group</th><th scope=col>value</th></tr>\n",
       "\t<tr><th scope=col>&lt;chr&gt;</th><th scope=col>&lt;dbl&gt;</th></tr>\n",
       "</thead>\n",
       "<tbody>\n",
       "\t<tr><td>0-1 lower</td><td>0.257502</td></tr>\n",
       "\t<tr><td>0-1 lower</td><td>0.219240</td></tr>\n",
       "\t<tr><td>0-1 lower</td><td>0.200475</td></tr>\n",
       "\t<tr><td>0-1 lower</td><td>0.255076</td></tr>\n",
       "\t<tr><td>0-1 lower</td><td>0.216372</td></tr>\n",
       "\t<tr><td>0-1 lower</td><td>0.211890</td></tr>\n",
       "</tbody>\n",
       "</table>\n"
      ],
      "text/latex": [
       "A tibble: 6 × 2\n",
       "\\begin{tabular}{r|ll}\n",
       " group & value\\\\\n",
       " <chr> & <dbl>\\\\\n",
       "\\hline\n",
       "\t 0-1 lower & 0.257502\\\\\n",
       "\t 0-1 lower & 0.219240\\\\\n",
       "\t 0-1 lower & 0.200475\\\\\n",
       "\t 0-1 lower & 0.255076\\\\\n",
       "\t 0-1 lower & 0.216372\\\\\n",
       "\t 0-1 lower & 0.211890\\\\\n",
       "\\end{tabular}\n"
      ],
      "text/markdown": [
       "\n",
       "A tibble: 6 × 2\n",
       "\n",
       "| group &lt;chr&gt; | value &lt;dbl&gt; |\n",
       "|---|---|\n",
       "| 0-1 lower | 0.257502 |\n",
       "| 0-1 lower | 0.219240 |\n",
       "| 0-1 lower | 0.200475 |\n",
       "| 0-1 lower | 0.255076 |\n",
       "| 0-1 lower | 0.216372 |\n",
       "| 0-1 lower | 0.211890 |\n",
       "\n"
      ],
      "text/plain": [
       "  group     value   \n",
       "1 0-1 lower 0.257502\n",
       "2 0-1 lower 0.219240\n",
       "3 0-1 lower 0.200475\n",
       "4 0-1 lower 0.255076\n",
       "5 0-1 lower 0.216372\n",
       "6 0-1 lower 0.211890"
      ]
     },
     "metadata": {},
     "output_type": "display_data"
    }
   ],
   "source": [
    "dfe_full %<>%\n",
    "    gather(group, value)\n",
    "\n",
    "head(dfe_full)"
   ]
  },
  {
   "cell_type": "code",
   "execution_count": 23,
   "metadata": {},
   "outputs": [
    {
     "data": {
      "text/html": [
       "<table>\n",
       "<caption>A tibble: 8 × 8</caption>\n",
       "<thead>\n",
       "\t<tr><th scope=col>range</th><th scope=col>type_of</th><th scope=col>group_mean</th><th scope=col>group_sd</th><th scope=col>group_n</th><th scope=col>error</th><th scope=col>error_left</th><th scope=col>error_right</th></tr>\n",
       "\t<tr><th scope=col>&lt;chr&gt;</th><th scope=col>&lt;chr&gt;</th><th scope=col>&lt;dbl&gt;</th><th scope=col>&lt;dbl&gt;</th><th scope=col>&lt;int&gt;</th><th scope=col>&lt;dbl&gt;</th><th scope=col>&lt;dbl&gt;</th><th scope=col>&lt;dbl&gt;</th></tr>\n",
       "</thead>\n",
       "<tbody>\n",
       "\t<tr><td>0-1    </td><td>bottom 10%</td><td>0.22419544</td><td>0.02349012</td><td>100</td><td>0.004660949</td><td>0.21953449</td><td>0.22885639</td></tr>\n",
       "\t<tr><td>0-1    </td><td>top 10%   </td><td>0.20790384</td><td>0.02000896</td><td>100</td><td>0.003970212</td><td>0.20393363</td><td>0.21187405</td></tr>\n",
       "\t<tr><td>1-10   </td><td>bottom 10%</td><td>0.05473978</td><td>0.01717700</td><td>100</td><td>0.003408290</td><td>0.05133149</td><td>0.05814807</td></tr>\n",
       "\t<tr><td>1-10   </td><td>top 10%   </td><td>0.05694663</td><td>0.01637783</td><td>100</td><td>0.003249717</td><td>0.05369691</td><td>0.06019635</td></tr>\n",
       "\t<tr><td>10-100 </td><td>bottom 10%</td><td>0.06980032</td><td>0.02650443</td><td>100</td><td>0.005259054</td><td>0.06454127</td><td>0.07505937</td></tr>\n",
       "\t<tr><td>10-100 </td><td>top 10%   </td><td>0.07401335</td><td>0.02644696</td><td>100</td><td>0.005247650</td><td>0.06876570</td><td>0.07926100</td></tr>\n",
       "\t<tr><td>100-inf</td><td>bottom 10%</td><td>0.65126447</td><td>0.04344254</td><td>100</td><td>0.008619943</td><td>0.64264453</td><td>0.65988441</td></tr>\n",
       "\t<tr><td>100-inf</td><td>top 10%   </td><td>0.66113623</td><td>0.04523183</td><td>100</td><td>0.008974977</td><td>0.65216125</td><td>0.67011121</td></tr>\n",
       "</tbody>\n",
       "</table>\n"
      ],
      "text/latex": [
       "A tibble: 8 × 8\n",
       "\\begin{tabular}{r|llllllll}\n",
       " range & type\\_of & group\\_mean & group\\_sd & group\\_n & error & error\\_left & error\\_right\\\\\n",
       " <chr> & <chr> & <dbl> & <dbl> & <int> & <dbl> & <dbl> & <dbl>\\\\\n",
       "\\hline\n",
       "\t 0-1     & bottom 10\\% & 0.22419544 & 0.02349012 & 100 & 0.004660949 & 0.21953449 & 0.22885639\\\\\n",
       "\t 0-1     & top 10\\%    & 0.20790384 & 0.02000896 & 100 & 0.003970212 & 0.20393363 & 0.21187405\\\\\n",
       "\t 1-10    & bottom 10\\% & 0.05473978 & 0.01717700 & 100 & 0.003408290 & 0.05133149 & 0.05814807\\\\\n",
       "\t 1-10    & top 10\\%    & 0.05694663 & 0.01637783 & 100 & 0.003249717 & 0.05369691 & 0.06019635\\\\\n",
       "\t 10-100  & bottom 10\\% & 0.06980032 & 0.02650443 & 100 & 0.005259054 & 0.06454127 & 0.07505937\\\\\n",
       "\t 10-100  & top 10\\%    & 0.07401335 & 0.02644696 & 100 & 0.005247650 & 0.06876570 & 0.07926100\\\\\n",
       "\t 100-inf & bottom 10\\% & 0.65126447 & 0.04344254 & 100 & 0.008619943 & 0.64264453 & 0.65988441\\\\\n",
       "\t 100-inf & top 10\\%    & 0.66113623 & 0.04523183 & 100 & 0.008974977 & 0.65216125 & 0.67011121\\\\\n",
       "\\end{tabular}\n"
      ],
      "text/markdown": [
       "\n",
       "A tibble: 8 × 8\n",
       "\n",
       "| range &lt;chr&gt; | type_of &lt;chr&gt; | group_mean &lt;dbl&gt; | group_sd &lt;dbl&gt; | group_n &lt;int&gt; | error &lt;dbl&gt; | error_left &lt;dbl&gt; | error_right &lt;dbl&gt; |\n",
       "|---|---|---|---|---|---|---|---|\n",
       "| 0-1     | bottom 10% | 0.22419544 | 0.02349012 | 100 | 0.004660949 | 0.21953449 | 0.22885639 |\n",
       "| 0-1     | top 10%    | 0.20790384 | 0.02000896 | 100 | 0.003970212 | 0.20393363 | 0.21187405 |\n",
       "| 1-10    | bottom 10% | 0.05473978 | 0.01717700 | 100 | 0.003408290 | 0.05133149 | 0.05814807 |\n",
       "| 1-10    | top 10%    | 0.05694663 | 0.01637783 | 100 | 0.003249717 | 0.05369691 | 0.06019635 |\n",
       "| 10-100  | bottom 10% | 0.06980032 | 0.02650443 | 100 | 0.005259054 | 0.06454127 | 0.07505937 |\n",
       "| 10-100  | top 10%    | 0.07401335 | 0.02644696 | 100 | 0.005247650 | 0.06876570 | 0.07926100 |\n",
       "| 100-inf | bottom 10% | 0.65126447 | 0.04344254 | 100 | 0.008619943 | 0.64264453 | 0.65988441 |\n",
       "| 100-inf | top 10%    | 0.66113623 | 0.04523183 | 100 | 0.008974977 | 0.65216125 | 0.67011121 |\n",
       "\n"
      ],
      "text/plain": [
       "  range   type_of    group_mean group_sd   group_n error       error_left\n",
       "1 0-1     bottom 10% 0.22419544 0.02349012 100     0.004660949 0.21953449\n",
       "2 0-1     top 10%    0.20790384 0.02000896 100     0.003970212 0.20393363\n",
       "3 1-10    bottom 10% 0.05473978 0.01717700 100     0.003408290 0.05133149\n",
       "4 1-10    top 10%    0.05694663 0.01637783 100     0.003249717 0.05369691\n",
       "5 10-100  bottom 10% 0.06980032 0.02650443 100     0.005259054 0.06454127\n",
       "6 10-100  top 10%    0.07401335 0.02644696 100     0.005247650 0.06876570\n",
       "7 100-inf bottom 10% 0.65126447 0.04344254 100     0.008619943 0.64264453\n",
       "8 100-inf top 10%    0.66113623 0.04523183 100     0.008974977 0.65216125\n",
       "  error_right\n",
       "1 0.22885639 \n",
       "2 0.21187405 \n",
       "3 0.05814807 \n",
       "4 0.06019635 \n",
       "5 0.07505937 \n",
       "6 0.07926100 \n",
       "7 0.65988441 \n",
       "8 0.67011121 "
      ]
     },
     "metadata": {},
     "output_type": "display_data"
    }
   ],
   "source": [
    "dfe_full_cis <- dfe_full %>%\n",
    "    group_by(group) %>%\n",
    "    summarise(group_mean = mean(value), group_sd = sd(value), group_n = n()) %>%\n",
    "    mutate(error = qt(0.975, df = (group_n - 1)) * ((group_sd) / sqrt(group_n))) %>%\n",
    "    mutate(error_left = group_mean - error, error_right = group_mean + error) %>%\n",
    "    separate(group, c('range', 'type_of'), sep = ' ') %>%\n",
    "    mutate(type_of = case_when(type_of == 'lower' ~ 'bottom 10%', type_of == 'upper' ~ 'top 10%'))\n",
    "\n",
    "dfe_full_cis"
   ]
  },
  {
   "cell_type": "code",
   "execution_count": 24,
   "metadata": {},
   "outputs": [
    {
     "data": {
      "text/html": [
       "'0-1'"
      ],
      "text/latex": [
       "'0-1'"
      ],
      "text/markdown": [
       "'0-1'"
      ],
      "text/plain": [
       "[1] \"0-1\""
      ]
     },
     "metadata": {},
     "output_type": "display_data"
    }
   ],
   "source": [
    "dfe_full_cis$range[1]"
   ]
  },
  {
   "cell_type": "code",
   "execution_count": 25,
   "metadata": {},
   "outputs": [],
   "source": [
    "my.plot<-ggplot(dfe_full_cis, aes(x = factor(range), y = group_mean, fill = factor(type_of))) + \n",
    "geom_bar(stat = 'identity', position = 'dodge') +\n",
    "geom_errorbar(aes(ymin = error_left, ymax = error_right), position = position_dodge(1), width = 0.3, size = 0.3) +\n",
    "theme_linedraw() +\n",
    "scale_fill_brewer(palette = 4, direction = 1) +\n",
    "# scale_fill_manual(values=c(\"#999999\", \"#E69F00\", \"#56B4E9\")) +\n",
    "xlab(expression(paste(N[e], 's'))) +\n",
    "ylab('proportion of mutations') +\n",
    "theme(panel.grid.major = element_blank(),\n",
    "      panel.grid.minor = element_blank(),\n",
    "      axis.text = element_text(size = 14),\n",
    "      axis.title = element_text(size = 14)) +\n",
    "theme(legend.position = c(0.23, 0.8)) +\n",
    "guides(fill = guide_legend(title = \"chlamynet-bc type\")) +\n",
    "coord_cartesian(y = c(0, 1))\n",
    "# ggsave(plot=my.plot, \"high_bw_connectivity_props.png\")"
   ]
  },
  {
   "cell_type": "code",
   "execution_count": 26,
   "metadata": {},
   "outputs": [
    {
     "data": {
      "image/png": "[encoded data removed]",
      "text/plain": [
       "plot without title"
      ]
     },
     "metadata": {},
     "output_type": "display_data"
    }
   ],
   "source": [
    "my.plot"
   ]
  },
  {
   "cell_type": "code",
   "execution_count": null,
   "metadata": {},
   "outputs": [],
   "source": []
  },
  {
   "cell_type": "code",
   "execution_count": null,
   "metadata": {},
   "outputs": [],
   "source": []
  },
  {
   "cell_type": "code",
   "execution_count": null,
   "metadata": {},
   "outputs": [],
   "source": []
  },
  {
   "cell_type": "code",
   "execution_count": null,
   "metadata": {},
   "outputs": [],
   "source": []
  },
  {
   "cell_type": "markdown",
   "metadata": {},
   "source": [
    "from https://www.cyclismo.org/tutorial/R/confidence.html\n",
    "\n",
    "> mean <- 5\n",
    "> sd <- 2\n",
    "> sample size <- 20\n",
    "> error <- qt(0.975,df=n-1)*s/sqrt(n)\n",
    "> left <- a-error\n",
    "> right <- a+error\n",
    "> left\n",
    "[1] 4.063971\n",
    "> right\n",
    "[1] 5.936029"
   ]
  },
  {
   "cell_type": "code",
   "execution_count": null,
   "metadata": {},
   "outputs": [],
   "source": []
  }
 ],
 "metadata": {
  "kernelspec": {
   "display_name": "R",
   "language": "R",
   "name": "ir"
  },
  "language_info": {
   "codemirror_mode": "r",
   "file_extension": ".r",
   "mimetype": "text/x-r-source",
   "name": "R",
   "pygments_lexer": "r",
   "version": "3.5.2"
  }
 },
 "nbformat": 4,
 "nbformat_minor": 2
}
