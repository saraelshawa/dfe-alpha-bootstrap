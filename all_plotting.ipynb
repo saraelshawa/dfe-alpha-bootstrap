{
 "cells": [
  {
   "cell_type": "code",
   "execution_count": 7,
   "metadata": {},
   "outputs": [
    {
     "ename": "ERROR",
     "evalue": "Error in library(Rmisc): there is no package called ‘Rmisc’\n",
     "output_type": "error",
     "traceback": [
      "Error in library(Rmisc): there is no package called ‘Rmisc’\nTraceback:\n",
      "1. library(Rmisc)",
      "2. stop(txt, domain = NA)"
     ]
    }
   ],
   "source": [
    "library(dplyr)\n",
    "library(ggplot2)\n",
    "library(readr)\n",
    "library(magrittr)\n",
    "# install.packages(\"Rmisc\")\n",
    "library(Rmisc)\n",
    "\n",
    "library(dplyr)\n",
    "library(ggplot2)\n",
    "library(readr)\n",
    "library(magrittr)\n",
    "require(tidyr)\n",
    "require(dplyr)\n",
    "require(lazyeval)"
   ]
  },
  {
   "cell_type": "code",
   "execution_count": 17,
   "metadata": {},
   "outputs": [
    {
     "name": "stderr",
     "output_type": "stream",
     "text": [
      "Parsed with column specification:\n",
      "cols(\n",
      "  X1 = \u001b[32mcol_double()\u001b[39m,\n",
      "  X2 = \u001b[32mcol_double()\u001b[39m,\n",
      "  X3 = \u001b[32mcol_double()\u001b[39m,\n",
      "  X4 = \u001b[32mcol_double()\u001b[39m\n",
      ")\n",
      "Parsed with column specification:\n",
      "cols(\n",
      "  X1 = \u001b[32mcol_double()\u001b[39m,\n",
      "  X2 = \u001b[32mcol_double()\u001b[39m,\n",
      "  X3 = \u001b[32mcol_double()\u001b[39m,\n",
      "  X4 = \u001b[32mcol_double()\u001b[39m\n",
      ")\n"
     ]
    },
    {
     "ename": "ERROR",
     "evalue": "Error in head(d_upper): object 'd_upper' not found\n",
     "output_type": "error",
     "traceback": [
      "Error in head(d_upper): object 'd_upper' not found\nTraceback:\n",
      "1. head(d_upper)"
     ]
    },
    {
     "ename": "ERROR",
     "evalue": "Error in head(d_lower): object 'd_lower' not found\n",
     "output_type": "error",
     "traceback": [
      "Error in head(d_lower): object 'd_lower' not found\nTraceback:\n",
      "1. head(d_lower)"
     ]
    }
   ],
   "source": [
    "upper.metrics <- read_delim('upper10th_irc1080_betweenness_centrality_all.csv', delim = ',', col_names = FALSE);\n",
    "lower.metrics <- read_delim('lower10th_irc1080_betweenness_centrality_all.csv', delim = ',', col_names = FALSE);\n",
    "# dim(d_upper); dim(d_lower);\n",
    "\n",
    "\n",
    "colnames(upper.metrics) <- c('upper_lambda', 'upper_selected_divergence', 'upper_alpha','upper_omega_A');\n",
    "colnames(lower.metrics) <- c('lower_lambda', 'lower_selected_divergence', 'lower_alpha', 'lower_omega_A');\n",
    "head(d_upper); head(d_lower)\n"
   ]
  },
  {
   "cell_type": "code",
   "execution_count": 18,
   "metadata": {},
   "outputs": [],
   "source": [
    "my.summary<-data.frame(value=c(mean(upper.metrics$upper_omega_A), mean(upper.metrics$upper_lambda),\n",
    "                               mean(upper.metrics$upper_alpha), mean(upper.metrics$upper_selected_divergence),\n",
    "                                mean(lower.metrics$lower_omega_A), mean(lower.metrics$lower_lambda),\n",
    "                               mean(lower.metrics$lower_alpha), mean(lower.metrics$lower_selected_divergence)),\n",
    "                         sd=c(sd(upper.metrics$upper_omega_A), sd(upper.metrics$upper_lambda),\n",
    "                               sd(upper.metrics$upper_alpha), sd(upper.metrics$upper_selected_divergence), sd(lower.metrics$lower_omega_A), sd(lower.metrics$lower_lambda),\n",
    "                               sd(lower.metrics$lower_alpha), sd(lower.metrics$lower_selected_divergence)),\n",
    "                         metric=rep(c(\"omega_A\", \"lambda\", \"alpha\", \"selected_divergence\"), \n",
    "                                  times=2),\n",
    "                         max_connectivity=rep(c(\"top 10%\", \"bottom 10%\"), each=4))\n"
   ]
  },
  {
   "cell_type": "code",
   "execution_count": 19,
   "metadata": {},
   "outputs": [
    {
     "data": {
      "text/html": [
       "<table>\n",
       "<caption>A data.frame: 8 × 4</caption>\n",
       "<thead>\n",
       "\t<tr><th scope=col>value</th><th scope=col>sd</th><th scope=col>metric</th><th scope=col>max_connectivity</th></tr>\n",
       "\t<tr><th scope=col>&lt;dbl&gt;</th><th scope=col>&lt;dbl&gt;</th><th scope=col>&lt;fct&gt;</th><th scope=col>&lt;fct&gt;</th></tr>\n",
       "</thead>\n",
       "<tbody>\n",
       "\t<tr><td>0.05775358</td><td>0.006171828</td><td>omega_A            </td><td>top 10%   </td></tr>\n",
       "\t<tr><td>0.22911450</td><td>0.006551682</td><td>lambda             </td><td>top 10%   </td></tr>\n",
       "\t<tr><td>0.26713714</td><td>0.027781423</td><td>alpha              </td><td>top 10%   </td></tr>\n",
       "\t<tr><td>0.04958733</td><td>0.003328057</td><td>selected_divergence</td><td>top 10%   </td></tr>\n",
       "\t<tr><td>0.08687767</td><td>0.015652162</td><td>omega_A            </td><td>bottom 10%</td></tr>\n",
       "\t<tr><td>0.16554369</td><td>0.006835941</td><td>lambda             </td><td>bottom 10%</td></tr>\n",
       "\t<tr><td>0.54647604</td><td>0.061077777</td><td>alpha              </td><td>bottom 10%</td></tr>\n",
       "\t<tr><td>0.02611079</td><td>0.001981448</td><td>selected_divergence</td><td>bottom 10%</td></tr>\n",
       "</tbody>\n",
       "</table>\n"
      ],
      "text/latex": [
       "A data.frame: 8 × 4\n",
       "\\begin{tabular}{r|llll}\n",
       " value & sd & metric & max\\_connectivity\\\\\n",
       " <dbl> & <dbl> & <fct> & <fct>\\\\\n",
       "\\hline\n",
       "\t 0.05775358 & 0.006171828 & omega\\_A             & top 10\\%   \\\\\n",
       "\t 0.22911450 & 0.006551682 & lambda              & top 10\\%   \\\\\n",
       "\t 0.26713714 & 0.027781423 & alpha               & top 10\\%   \\\\\n",
       "\t 0.04958733 & 0.003328057 & selected\\_divergence & top 10\\%   \\\\\n",
       "\t 0.08687767 & 0.015652162 & omega\\_A             & bottom 10\\%\\\\\n",
       "\t 0.16554369 & 0.006835941 & lambda              & bottom 10\\%\\\\\n",
       "\t 0.54647604 & 0.061077777 & alpha               & bottom 10\\%\\\\\n",
       "\t 0.02611079 & 0.001981448 & selected\\_divergence & bottom 10\\%\\\\\n",
       "\\end{tabular}\n"
      ],
      "text/markdown": [
       "\n",
       "A data.frame: 8 × 4\n",
       "\n",
       "| value &lt;dbl&gt; | sd &lt;dbl&gt; | metric &lt;fct&gt; | max_connectivity &lt;fct&gt; |\n",
       "|---|---|---|---|\n",
       "| 0.05775358 | 0.006171828 | omega_A             | top 10%    |\n",
       "| 0.22911450 | 0.006551682 | lambda              | top 10%    |\n",
       "| 0.26713714 | 0.027781423 | alpha               | top 10%    |\n",
       "| 0.04958733 | 0.003328057 | selected_divergence | top 10%    |\n",
       "| 0.08687767 | 0.015652162 | omega_A             | bottom 10% |\n",
       "| 0.16554369 | 0.006835941 | lambda              | bottom 10% |\n",
       "| 0.54647604 | 0.061077777 | alpha               | bottom 10% |\n",
       "| 0.02611079 | 0.001981448 | selected_divergence | bottom 10% |\n",
       "\n"
      ],
      "text/plain": [
       "  value      sd          metric              max_connectivity\n",
       "1 0.05775358 0.006171828 omega_A             top 10%         \n",
       "2 0.22911450 0.006551682 lambda              top 10%         \n",
       "3 0.26713714 0.027781423 alpha               top 10%         \n",
       "4 0.04958733 0.003328057 selected_divergence top 10%         \n",
       "5 0.08687767 0.015652162 omega_A             bottom 10%      \n",
       "6 0.16554369 0.006835941 lambda              bottom 10%      \n",
       "7 0.54647604 0.061077777 alpha               bottom 10%      \n",
       "8 0.02611079 0.001981448 selected_divergence bottom 10%      "
      ]
     },
     "metadata": {},
     "output_type": "display_data"
    }
   ],
   "source": [
    "my.summary"
   ]
  },
  {
   "cell_type": "code",
   "execution_count": 25,
   "metadata": {},
   "outputs": [
    {
     "data": {
      "text/html": [
       "<table>\n",
       "<caption>A data.frame: 8 × 7</caption>\n",
       "<thead>\n",
       "\t<tr><th scope=col>value</th><th scope=col>sd</th><th scope=col>metric</th><th scope=col>max_connectivity</th><th scope=col>error</th><th scope=col>error_left</th><th scope=col>error_right</th></tr>\n",
       "\t<tr><th scope=col>&lt;dbl&gt;</th><th scope=col>&lt;dbl&gt;</th><th scope=col>&lt;fct&gt;</th><th scope=col>&lt;fct&gt;</th><th scope=col>&lt;dbl&gt;</th><th scope=col>&lt;dbl&gt;</th><th scope=col>&lt;dbl&gt;</th></tr>\n",
       "</thead>\n",
       "<tbody>\n",
       "\t<tr><td>0.05775358</td><td>0.006171828</td><td>omega_A            </td><td>top 10%   </td><td>0.005159778</td><td>0.05259380</td><td>0.06291336</td></tr>\n",
       "\t<tr><td>0.22911450</td><td>0.006551682</td><td>lambda             </td><td>top 10%   </td><td>0.005477343</td><td>0.22363716</td><td>0.23459184</td></tr>\n",
       "\t<tr><td>0.26713714</td><td>0.027781423</td><td>alpha              </td><td>top 10%   </td><td>0.023225851</td><td>0.24391129</td><td>0.29036299</td></tr>\n",
       "\t<tr><td>0.04958733</td><td>0.003328057</td><td>selected_divergence</td><td>top 10%   </td><td>0.002782325</td><td>0.04680500</td><td>0.05236966</td></tr>\n",
       "\t<tr><td>0.08687767</td><td>0.015652162</td><td>omega_A            </td><td>bottom 10%</td><td>0.013085535</td><td>0.07379213</td><td>0.09996321</td></tr>\n",
       "\t<tr><td>0.16554369</td><td>0.006835941</td><td>lambda             </td><td>bottom 10%</td><td>0.005714990</td><td>0.15982870</td><td>0.17125868</td></tr>\n",
       "\t<tr><td>0.54647604</td><td>0.061077777</td><td>alpha              </td><td>bottom 10%</td><td>0.051062299</td><td>0.49541374</td><td>0.59753834</td></tr>\n",
       "\t<tr><td>0.02611079</td><td>0.001981448</td><td>selected_divergence</td><td>bottom 10%</td><td>0.001656532</td><td>0.02445426</td><td>0.02776732</td></tr>\n",
       "</tbody>\n",
       "</table>\n"
      ],
      "text/latex": [
       "A data.frame: 8 × 7\n",
       "\\begin{tabular}{r|lllllll}\n",
       " value & sd & metric & max\\_connectivity & error & error\\_left & error\\_right\\\\\n",
       " <dbl> & <dbl> & <fct> & <fct> & <dbl> & <dbl> & <dbl>\\\\\n",
       "\\hline\n",
       "\t 0.05775358 & 0.006171828 & omega\\_A             & top 10\\%    & 0.005159778 & 0.05259380 & 0.06291336\\\\\n",
       "\t 0.22911450 & 0.006551682 & lambda              & top 10\\%    & 0.005477343 & 0.22363716 & 0.23459184\\\\\n",
       "\t 0.26713714 & 0.027781423 & alpha               & top 10\\%    & 0.023225851 & 0.24391129 & 0.29036299\\\\\n",
       "\t 0.04958733 & 0.003328057 & selected\\_divergence & top 10\\%    & 0.002782325 & 0.04680500 & 0.05236966\\\\\n",
       "\t 0.08687767 & 0.015652162 & omega\\_A             & bottom 10\\% & 0.013085535 & 0.07379213 & 0.09996321\\\\\n",
       "\t 0.16554369 & 0.006835941 & lambda              & bottom 10\\% & 0.005714990 & 0.15982870 & 0.17125868\\\\\n",
       "\t 0.54647604 & 0.061077777 & alpha               & bottom 10\\% & 0.051062299 & 0.49541374 & 0.59753834\\\\\n",
       "\t 0.02611079 & 0.001981448 & selected\\_divergence & bottom 10\\% & 0.001656532 & 0.02445426 & 0.02776732\\\\\n",
       "\\end{tabular}\n"
      ],
      "text/markdown": [
       "\n",
       "A data.frame: 8 × 7\n",
       "\n",
       "| value &lt;dbl&gt; | sd &lt;dbl&gt; | metric &lt;fct&gt; | max_connectivity &lt;fct&gt; | error &lt;dbl&gt; | error_left &lt;dbl&gt; | error_right &lt;dbl&gt; |\n",
       "|---|---|---|---|---|---|---|\n",
       "| 0.05775358 | 0.006171828 | omega_A             | top 10%    | 0.005159778 | 0.05259380 | 0.06291336 |\n",
       "| 0.22911450 | 0.006551682 | lambda              | top 10%    | 0.005477343 | 0.22363716 | 0.23459184 |\n",
       "| 0.26713714 | 0.027781423 | alpha               | top 10%    | 0.023225851 | 0.24391129 | 0.29036299 |\n",
       "| 0.04958733 | 0.003328057 | selected_divergence | top 10%    | 0.002782325 | 0.04680500 | 0.05236966 |\n",
       "| 0.08687767 | 0.015652162 | omega_A             | bottom 10% | 0.013085535 | 0.07379213 | 0.09996321 |\n",
       "| 0.16554369 | 0.006835941 | lambda              | bottom 10% | 0.005714990 | 0.15982870 | 0.17125868 |\n",
       "| 0.54647604 | 0.061077777 | alpha               | bottom 10% | 0.051062299 | 0.49541374 | 0.59753834 |\n",
       "| 0.02611079 | 0.001981448 | selected_divergence | bottom 10% | 0.001656532 | 0.02445426 | 0.02776732 |\n",
       "\n"
      ],
      "text/plain": [
       "  value      sd          metric              max_connectivity error      \n",
       "1 0.05775358 0.006171828 omega_A             top 10%          0.005159778\n",
       "2 0.22911450 0.006551682 lambda              top 10%          0.005477343\n",
       "3 0.26713714 0.027781423 alpha               top 10%          0.023225851\n",
       "4 0.04958733 0.003328057 selected_divergence top 10%          0.002782325\n",
       "5 0.08687767 0.015652162 omega_A             bottom 10%       0.013085535\n",
       "6 0.16554369 0.006835941 lambda              bottom 10%       0.005714990\n",
       "7 0.54647604 0.061077777 alpha               bottom 10%       0.051062299\n",
       "8 0.02611079 0.001981448 selected_divergence bottom 10%       0.001656532\n",
       "  error_left error_right\n",
       "1 0.05259380 0.06291336 \n",
       "2 0.22363716 0.23459184 \n",
       "3 0.24391129 0.29036299 \n",
       "4 0.04680500 0.05236966 \n",
       "5 0.07379213 0.09996321 \n",
       "6 0.15982870 0.17125868 \n",
       "7 0.49541374 0.59753834 \n",
       "8 0.02445426 0.02776732 "
      ]
     },
     "metadata": {},
     "output_type": "display_data"
    }
   ],
   "source": [
    "my.summary.cis <- my.summary %>%\n",
    "    mutate(error = qt(0.975, df = (n() - 1)) * ((sd) / sqrt(n()))) %>%\n",
    "    mutate(error_left = value - error, error_right = value + error) \n",
    "\n",
    "my.summary.cis"
   ]
  },
  {
   "cell_type": "code",
   "execution_count": 23,
   "metadata": {},
   "outputs": [],
   "source": [
    "# my.summary$lowerCI<-my.summary$value - qt(0.975,df=length(upper.metrics$iteration)-1)*my.summary$sd/sqrt(length(upper.metrics$iteration))\n",
    "# my.summary$upperCI<-my.summary$value + qt(0.975,df=length(upper.metrics$iteration)-1)*my.summary$sd/sqrt(length(upper.metrics$iteration))\n",
    "\n",
    "# qt(0.975,df=length(w1$vals)-1)*sd(w1$vals)/sqrt(length(w1$vals))\n",
    "\n",
    "\n",
    "# my.summary$lowerCI <- c(0.26347915999854193, 0.3988594779534713, 0.564460943689365, 0.18610107917377028, 0.20683602394707545, 0.40079603730768965, 0.4769812398839154, 0.17314648621907025)\n",
    "# my.summary$upperCI <- c(0.27987517663512135, 0.4149986210564297, 0.5862523434393477, 0.19945155448959606, 0.21799795625094442, 0.4140932894249839, 0.4979478294230152, 0.18305626625617727 )"
   ]
  },
  {
   "cell_type": "code",
   "execution_count": 15,
   "metadata": {},
   "outputs": [
    {
     "data": {
      "text/html": [
       "<table>\n",
       "<caption>A data.frame: 8 × 6</caption>\n",
       "<thead>\n",
       "\t<tr><th scope=col>value</th><th scope=col>sd</th><th scope=col>metric</th><th scope=col>max_connectivity</th><th scope=col>lowerCI</th><th scope=col>upperCI</th></tr>\n",
       "\t<tr><th scope=col>&lt;dbl&gt;</th><th scope=col>&lt;dbl&gt;</th><th scope=col>&lt;fct&gt;</th><th scope=col>&lt;fct&gt;</th><th scope=col>&lt;dbl&gt;</th><th scope=col>&lt;dbl&gt;</th></tr>\n",
       "</thead>\n",
       "<tbody>\n",
       "\t<tr><td>0.08314287</td><td>0.009356180</td><td>omega_A            </td><td>top 10%   </td><td>NaN</td><td>NaN</td></tr>\n",
       "\t<tr><td>0.16066489</td><td>0.007021540</td><td>lambda             </td><td>top 10%   </td><td>NaN</td><td>NaN</td></tr>\n",
       "\t<tr><td>0.60856269</td><td>0.045289107</td><td>alpha              </td><td>top 10%   </td><td>NaN</td><td>NaN</td></tr>\n",
       "\t<tr><td>0.02190855</td><td>0.001588151</td><td>selected_divergence</td><td>top 10%   </td><td>NaN</td><td>NaN</td></tr>\n",
       "\t<tr><td>0.14663283</td><td>0.009477945</td><td>omega_A            </td><td>bottom 10%</td><td>NaN</td><td>NaN</td></tr>\n",
       "\t<tr><td>0.17694565</td><td>0.006349746</td><td>lambda             </td><td>bottom 10%</td><td>NaN</td><td>NaN</td></tr>\n",
       "\t<tr><td>0.65859319</td><td>0.030601513</td><td>alpha              </td><td>bottom 10%</td><td>NaN</td><td>NaN</td></tr>\n",
       "\t<tr><td>0.03938661</td><td>0.002145064</td><td>selected_divergence</td><td>bottom 10%</td><td>NaN</td><td>NaN</td></tr>\n",
       "</tbody>\n",
       "</table>\n"
      ],
      "text/latex": [
       "A data.frame: 8 × 6\n",
       "\\begin{tabular}{r|llllll}\n",
       " value & sd & metric & max\\_connectivity & lowerCI & upperCI\\\\\n",
       " <dbl> & <dbl> & <fct> & <fct> & <dbl> & <dbl>\\\\\n",
       "\\hline\n",
       "\t 0.08314287 & 0.009356180 & omega\\_A             & top 10\\%    & NaN & NaN\\\\\n",
       "\t 0.16066489 & 0.007021540 & lambda              & top 10\\%    & NaN & NaN\\\\\n",
       "\t 0.60856269 & 0.045289107 & alpha               & top 10\\%    & NaN & NaN\\\\\n",
       "\t 0.02190855 & 0.001588151 & selected\\_divergence & top 10\\%    & NaN & NaN\\\\\n",
       "\t 0.14663283 & 0.009477945 & omega\\_A             & bottom 10\\% & NaN & NaN\\\\\n",
       "\t 0.17694565 & 0.006349746 & lambda              & bottom 10\\% & NaN & NaN\\\\\n",
       "\t 0.65859319 & 0.030601513 & alpha               & bottom 10\\% & NaN & NaN\\\\\n",
       "\t 0.03938661 & 0.002145064 & selected\\_divergence & bottom 10\\% & NaN & NaN\\\\\n",
       "\\end{tabular}\n"
      ],
      "text/markdown": [
       "\n",
       "A data.frame: 8 × 6\n",
       "\n",
       "| value &lt;dbl&gt; | sd &lt;dbl&gt; | metric &lt;fct&gt; | max_connectivity &lt;fct&gt; | lowerCI &lt;dbl&gt; | upperCI &lt;dbl&gt; |\n",
       "|---|---|---|---|---|---|\n",
       "| 0.08314287 | 0.009356180 | omega_A             | top 10%    | NaN | NaN |\n",
       "| 0.16066489 | 0.007021540 | lambda              | top 10%    | NaN | NaN |\n",
       "| 0.60856269 | 0.045289107 | alpha               | top 10%    | NaN | NaN |\n",
       "| 0.02190855 | 0.001588151 | selected_divergence | top 10%    | NaN | NaN |\n",
       "| 0.14663283 | 0.009477945 | omega_A             | bottom 10% | NaN | NaN |\n",
       "| 0.17694565 | 0.006349746 | lambda              | bottom 10% | NaN | NaN |\n",
       "| 0.65859319 | 0.030601513 | alpha               | bottom 10% | NaN | NaN |\n",
       "| 0.03938661 | 0.002145064 | selected_divergence | bottom 10% | NaN | NaN |\n",
       "\n"
      ],
      "text/plain": [
       "  value      sd          metric              max_connectivity lowerCI upperCI\n",
       "1 0.08314287 0.009356180 omega_A             top 10%          NaN     NaN    \n",
       "2 0.16066489 0.007021540 lambda              top 10%          NaN     NaN    \n",
       "3 0.60856269 0.045289107 alpha               top 10%          NaN     NaN    \n",
       "4 0.02190855 0.001588151 selected_divergence top 10%          NaN     NaN    \n",
       "5 0.14663283 0.009477945 omega_A             bottom 10%       NaN     NaN    \n",
       "6 0.17694565 0.006349746 lambda              bottom 10%       NaN     NaN    \n",
       "7 0.65859319 0.030601513 alpha               bottom 10%       NaN     NaN    \n",
       "8 0.03938661 0.002145064 selected_divergence bottom 10%       NaN     NaN    "
      ]
     },
     "metadata": {},
     "output_type": "display_data"
    }
   ],
   "source": [
    "my.summary"
   ]
  },
  {
   "cell_type": "code",
   "execution_count": 16,
   "metadata": {},
   "outputs": [],
   "source": [
    "my.summary<-my.summary[order(my.summary$metric, my.summary$max_connectivity),]"
   ]
  },
  {
   "cell_type": "code",
   "execution_count": 26,
   "metadata": {},
   "outputs": [
    {
     "data": {
      "image/png": "[encoded data removed]",
      "text/plain": [
       "plot without title"
      ]
     },
     "metadata": {},
     "output_type": "display_data"
    }
   ],
   "source": [
    "my_font = 'Helvetica'\n",
    "my.plot<-ggplot(data=my.summary.cis, aes(max_connectivity, value)) +\n",
    "geom_point()  +\n",
    "facet_grid(metric~., scales = \"free_y\") +\n",
    "geom_errorbar(data=my.summary,\n",
    "              aes(ymin=my.summary.cis$error_left, \n",
    "                  ymax=my.summary.cis$error_right, width=0.2)) +\n",
    "theme_bw() +\n",
    "  theme(panel.grid.major = element_blank(), panel.grid.minor = element_blank(),\n",
    "        panel.border = element_rect(colour=\"black\"), \n",
    "        strip.background = element_rect(colour=\"black\", fill=\"white\"),\n",
    "        axis.text.x=element_text(size=12, family=my_font), axis.title.x=element_text(size=14, family=my_font,vjust=0.01),\n",
    "        axis.text.y=element_text(size=12, family=my_font), axis.title.y=element_text(size=14, family=my_font))\n",
    "my.plot\n",
    "\n",
    "# ggsave(plot=my.plot, \"all_measures_between_centrality.png\")"
   ]
  },
  {
   "cell_type": "code",
   "execution_count": null,
   "metadata": {},
   "outputs": [],
   "source": []
  }
 ],
 "metadata": {
  "kernelspec": {
   "display_name": "R",
   "language": "R",
   "name": "ir"
  },
  "language_info": {
   "codemirror_mode": "r",
   "file_extension": ".r",
   "mimetype": "text/x-r-source",
   "name": "R",
   "pygments_lexer": "r",
   "version": "3.5.2"
  }
 },
 "nbformat": 4,
 "nbformat_minor": 2
}
